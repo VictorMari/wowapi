{
 "cells": [
  {
   "cell_type": "code",
   "execution_count": 3,
   "id": "7a5ebca3",
   "metadata": {
    "collapsed": true
   },
   "outputs": [],
   "source": [
    "import pandas as pd\n",
    "import sklearn as sk\n",
    "from pathlib import Path\n",
    "import json"
   ]
  },
  {
   "cell_type": "code",
   "execution_count": 4,
   "id": "8561f4d3",
   "metadata": {},
   "outputs": [],
   "source": [
    "def load_data():\n",
    "    for file in Path(f\"../mythics/features\").glob(\"*.json\"):\n",
    "        with file.open(\"r\") as f:\n",
    "            yield json.load(f), file.name"
   ]
  },
  {
   "cell_type": "code",
   "execution_count": 37,
   "id": "ba49b57c",
   "metadata": {},
   "outputs": [],
   "source": [
    "for run_data, file in load_data():\n",
    "    run_dataframe = pd.read_json(json.dumps({\n",
    "        \"columns\": [\"player 1\", \"player 2\", \"player 3\", \"player 4\", \"player 5\"],\n",
    "        \"data\": run_data\n",
    "    }), orient=\"split\")\n",
    "    break\n",
    "\n"
   ]
  },
  {
   "cell_type": "code",
   "execution_count": 38,
   "id": "8b1e3ae0",
   "metadata": {},
   "outputs": [
    {
     "name": "stdout",
     "output_type": "stream",
     "text": [
      "       player 1   player 2   player 3   player 4     player 5\n",
      "0     205721527  170959189   15953390  171133131  106472357.0\n",
      "1     170959189  171133131  106472357  205721527  171097937.0\n",
      "2     180536113  249035579  183762837  170840786  180727162.0\n",
      "3     133322977  171202292  175260524  163109633  170668784.0\n",
      "4      74899508  156893951  205214036  171400095  183404560.0\n",
      "...         ...        ...        ...        ...          ...\n",
      "1975  131958778  126695090  172901970  204767410  205583942.0\n",
      "1976  184537687  173223878  153414241   79083165  158925769.0\n",
      "1977  169278267  180933198  176171005  197225390  173395687.0\n",
      "1978  155101969  128320401  121302301  167996381  151473380.0\n",
      "1979  183698131  118316445  106631303  164861706  179883706.0\n",
      "\n",
      "[1980 rows x 5 columns]\n"
     ]
    }
   ],
   "source": [
    "print(run_dataframe)"
   ]
  },
  {
   "cell_type": "code",
   "execution_count": null,
   "id": "aee10ffa",
   "metadata": {},
   "outputs": [],
   "source": []
  }
 ],
 "metadata": {
  "kernelspec": {
   "display_name": "Python 3.10.4 ('venv': venv)",
   "language": "python",
   "name": "python3"
  },
  "language_info": {
   "codemirror_mode": {
    "name": "ipython",
    "version": 3
   },
   "file_extension": ".py",
   "mimetype": "text/x-python",
   "name": "python",
   "nbconvert_exporter": "python",
   "pygments_lexer": "ipython3",
   "version": "3.10.4"
  },
  "vscode": {
   "interpreter": {
    "hash": "56450c74a44a20608ce41d56654fac6080a8721cb737b5e4128990d54c823f23"
   }
  }
 },
 "nbformat": 4,
 "nbformat_minor": 5
}
