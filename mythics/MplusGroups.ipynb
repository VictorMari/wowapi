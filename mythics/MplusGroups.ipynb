{
 "cells": [
  {
   "cell_type": "code",
   "execution_count": 1,
   "id": "0ab4a9a4",
   "metadata": {
    "collapsed": true
   },
   "outputs": [],
   "source": [
    "import pandas as pd\n",
    "import sklearn as sk"
   ]
  },
  {
   "cell_type": "code",
   "execution_count": 2,
   "id": "9f5c9415",
   "metadata": {
    "collapsed": true
   },
   "outputs": [],
   "source": [
    "from pathlib import Path\n",
    "import json"
   ]
  },
  {
   "cell_type": "code",
   "execution_count": 6,
   "id": "35783746",
   "metadata": {},
   "outputs": [],
   "source": [
    "def load_data():\n",
    "    for file in Path(f\"features\").glob(\"*.json\"):\n",
    "        with file.open(\"r\") as f:\n",
    "            yield json.load(f), file.name"
   ]
  },
  {
   "cell_type": "code",
   "execution_count": 31,
   "id": "277bc5a4",
   "metadata": {},
   "outputs": [],
   "source": [
    "def group_features():\n",
    "    dataframes = {}\n",
    "    for run_data, name in load_data():\n",
    "        server_id, dungeon_id, period = name.split(\"_\")\n",
    "        if server_id in dataframes:\n",
    "            dataframes[server_id].extend(run_data)\n",
    "        else:\n",
    "            dataframes[server_id] = [data for data in run_data]\n",
    "    return dataframes"
   ]
  },
  {
   "cell_type": "code",
   "execution_count": 32,
   "id": "de025ecc",
   "metadata": {},
   "outputs": [
    {
     "data": {
      "text/plain": [
       "210433"
      ]
     },
     "execution_count": 32,
     "metadata": {},
     "output_type": "execute_result"
    }
   ],
   "source": [
    "dataset = group_features()\n",
    "\n",
    "open(\"temp.json\", \"w+\").write(json.dumps(dataset[\"509\"], indent=4))"
   ]
  },
  {
   "cell_type": "code",
   "execution_count": 33,
   "id": "b2eac4e9",
   "metadata": {},
   "outputs": [
    {
     "name": "stdout",
     "output_type": "stream",
     "text": [
      "       player 1   player 2   player 3   player 4   player 5\n",
      "0     184158438  170969398  183922366  180724161  184034250\n",
      "1     184513178  204503575  205262117  174861512  167641931\n",
      "2     171206455  183944012  183915963  205071701  183401011\n",
      "3     184372079  171018215  175002393  183908415  204367073\n",
      "4     205607534  183915687  181582477  165175441  175352776\n",
      "...         ...        ...        ...        ...        ...\n",
      "2495  176436172  161950962  203490480  125694087  170901099\n",
      "2496  153855854  170687688  170628593  161721128  132313007\n",
      "2497  159424344  173587373  203382519  184232214  171409694\n",
      "2498  171158358  162827315  118210524  184358373  164888288\n",
      "2499  163606012  137223296  191260973   97229781  203316977\n",
      "\n",
      "[2500 rows x 5 columns]\n"
     ]
    }
   ],
   "source": [
    "dataset = group_features()\n",
    "dataframes = [pd.read_json(json.dumps({\n",
    "    \"columns\": [\"player 1\", \"player 2\", \"player 3\", \"player 4\", \"player 5\"],\n",
    "    \"data\": runs\n",
    "}), orient=\"split\") for server_id, runs in dataset.items()]\n",
    "\n",
    "print(dataframes[0])\n",
    "\n"
   ]
  },
  {
   "cell_type": "code",
   "execution_count": null,
   "id": "96072fda",
   "metadata": {},
   "outputs": [],
   "source": []
  }
 ],
 "metadata": {
  "kernelspec": {
   "display_name": "Python 3 (ipykernel)",
   "language": "python",
   "name": "python3"
  },
  "language_info": {
   "codemirror_mode": {
    "name": "ipython",
    "version": 3
   },
   "file_extension": ".py",
   "mimetype": "text/x-python",
   "name": "python",
   "nbconvert_exporter": "python",
   "pygments_lexer": "ipython3",
   "version": "3.10.4"
  }
 },
 "nbformat": 4,
 "nbformat_minor": 5
}
